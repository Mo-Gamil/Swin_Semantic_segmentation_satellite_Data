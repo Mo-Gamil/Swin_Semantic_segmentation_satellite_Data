{
 "cells": [
  {
   "cell_type": "code",
   "execution_count": 1,
   "id": "8e43e486-bd8b-49d8-a296-c288934b095c",
   "metadata": {},
   "outputs": [],
   "source": [
    "import torch"
   ]
  },
  {
   "cell_type": "code",
   "execution_count": 7,
   "id": "eb031bc0-dd57-4c43-9a75-964df33e6e6b",
   "metadata": {},
   "outputs": [
    {
     "ename": "AttributeError",
     "evalue": "'dict' object has no attribute 'eval'",
     "output_type": "error",
     "traceback": [
      "\u001b[1;31m---------------------------------------------------------------------------\u001b[0m",
      "\u001b[1;31mAttributeError\u001b[0m                            Traceback (most recent call last)",
      "Cell \u001b[1;32mIn[7], line 7\u001b[0m\n\u001b[0;32m      5\u001b[0m model_path \u001b[38;5;241m=\u001b[39m \u001b[38;5;124m'\u001b[39m\u001b[38;5;124mwork_dirs - 8bands_1000 ites/upernet_swin_small_patch4_windows7_224X224_Illinois/iter_1000.pth\u001b[39m\u001b[38;5;124m'\u001b[39m\n\u001b[0;32m      6\u001b[0m model \u001b[38;5;241m=\u001b[39m torch\u001b[38;5;241m.\u001b[39mload(model_path, map_location\u001b[38;5;241m=\u001b[39mtorch\u001b[38;5;241m.\u001b[39mdevice(\u001b[38;5;124m'\u001b[39m\u001b[38;5;124mcpu\u001b[39m\u001b[38;5;124m'\u001b[39m))\n\u001b[1;32m----> 7\u001b[0m \u001b[43mmodel\u001b[49m\u001b[38;5;241;43m.\u001b[39;49m\u001b[43meval\u001b[49m()\n\u001b[0;32m      9\u001b[0m \u001b[38;5;66;03m# model = torch.load(model_path)\u001b[39;00m\n\u001b[0;32m     10\u001b[0m \n\u001b[0;32m     11\u001b[0m \u001b[38;5;66;03m# model.eval()\u001b[39;00m\n\u001b[0;32m     12\u001b[0m \n\u001b[0;32m     13\u001b[0m \u001b[38;5;66;03m# Example of printing the model to confirm structure\u001b[39;00m\n\u001b[0;32m     14\u001b[0m \u001b[38;5;28mprint\u001b[39m(model)\n",
      "\u001b[1;31mAttributeError\u001b[0m: 'dict' object has no attribute 'eval'"
     ]
    }
   ],
   "source": [
    "# Create an instance of the model\n",
    "# model = MyModel()\n",
    "\n",
    "# Step 2: Load the model state\n",
    "model_path = 'work_dirs - 8bands_1000 ites/upernet_swin_small_patch4_windows7_224X224_Illinois/iter_1000.pth'\n",
    "model = torch.load(model_path, map_location=torch.device('cpu'))\n",
    "# model.eval()\n",
    "\n",
    "# model = torch.load(model_path)\n",
    "\n",
    "# model.eval()\n",
    "\n",
    "# Example of printing the model to confirm structure\n",
    "print(model)"
   ]
  },
  {
   "cell_type": "code",
   "execution_count": null,
   "id": "ee6b315f-a1b9-4321-a067-68c2edfc14ad",
   "metadata": {},
   "outputs": [],
   "source": []
  },
  {
   "cell_type": "code",
   "execution_count": null,
   "id": "9f666fcb-a394-4389-a40f-3827f4b58696",
   "metadata": {},
   "outputs": [],
   "source": []
  },
  {
   "cell_type": "code",
   "execution_count": null,
   "id": "35a45d7e-906c-4e75-9fea-22f2a74c812e",
   "metadata": {},
   "outputs": [],
   "source": [
    "from mmseg.apis import inference_segmentor, init_segmentor\n",
    "import mmcv\n",
    "\n",
    "# Path to the configuration file\n",
    "config_file = 'work_dirs - 8bands_1000 ites\\upernet_swin_small_patch4_windows7_224X224_Illinois\\upernet_swin_small_patch4_windows7_224X224_Illinois.py'\n",
    "\n",
    "# Path to the model checkpoint file\n",
    "checkpoint_file = 'work_dirs - 8bands_1000 ites/upernet_swin_small_patch4_windows7_224X224_Illinois/iter_1000.pth'\n",
    "\n",
    "# Build the model from a config file and a checkpoint file\n",
    "model = init_segmentor(config_file, checkpoint_file, device='cuda:0')\n",
    "print(model)\n",
    "# # Test a single image and show the results\n",
    "# img = 'path/to/test/image.jpg'  # Update the path to your image\n",
    "# result = inference_segmentor(model, img)\n",
    "\n",
    "# # Display the segmentation result\n",
    "# model.show_result(img, result, out_file='path/to/save/result.jpg')\n"
   ]
  }
 ],
 "metadata": {
  "kernelspec": {
   "display_name": "Python 3 (ipykernel)",
   "language": "python",
   "name": "python3"
  },
  "language_info": {
   "codemirror_mode": {
    "name": "ipython",
    "version": 3
   },
   "file_extension": ".py",
   "mimetype": "text/x-python",
   "name": "python",
   "nbconvert_exporter": "python",
   "pygments_lexer": "ipython3",
   "version": "3.8.19"
  }
 },
 "nbformat": 4,
 "nbformat_minor": 5
}
